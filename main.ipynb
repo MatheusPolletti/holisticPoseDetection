{
 "cells": [
  {
   "cell_type": "markdown",
   "id": "1c88da7c",
   "metadata": {},
   "source": [
    "# Criando um modelo de pegar captura de modo Holístico, do corpo todo\n",
    "# O modelo rastrea o total de 543 pontos no corpo humano, sendo \n",
    "# 33 da pose, como o modelo de pose\n",
    "# 21 pontos por mão, com 42 no total, com o modelo de mãos\n",
    "# 468 para o rosto, pelo modelo de face mesh"
   ]
  },
  {
   "cell_type": "code",
   "execution_count": 1,
   "id": "50a5f2d7",
   "metadata": {},
   "outputs": [],
   "source": [
    "# Importando as bibliotecas\n",
    "import cv2\n",
    "import mediapipe as mp"
   ]
  },
  {
   "cell_type": "code",
   "execution_count": 2,
   "id": "2e41f9e6",
   "metadata": {},
   "outputs": [],
   "source": [
    "# Definindo as variáveis\n",
    "mp_drawing = mp.solutions.drawing_utils\n",
    "mp_drawing_styles = mp.solutions.drawing_styles\n",
    "mp_holistic = mp.solutions.holistic\n",
    "frames_error = 0"
   ]
  },
  {
   "cell_type": "code",
   "execution_count": 4,
   "id": "be18ff86",
   "metadata": {},
   "outputs": [],
   "source": [
    "cap = cv2.VideoCapture(0)\n",
    "\n",
    "with mp_holistic.Holistic(\n",
    "    min_detection_confidence=0.5,\n",
    "    min_tracking_confidence=0.5) as holistic:\n",
    "  while cap.isOpened():\n",
    "    success, image = cap.read()\n",
    "\n",
    "    if not success:\n",
    "      print(\"Ignorando imagem vazia\")\n",
    "      continue\n",
    "\n",
    "    if frames_error > 10:\n",
    "      print(\"Sem sucesso ao capturar o vídeo\")\n",
    "      break\n",
    "\n",
    "    # Converter cores para RGB (requerido pelo MediaPipe)\n",
    "    image.flags.writeable = False\n",
    "    image = cv2.cvtColor(image, cv2.COLOR_BGR2RGB)\n",
    "    results = holistic.process(image)\n",
    "\n",
    "    # Desenhando as landmarks na imagem, para isso, voltamos para o BGR para o OpenCV\n",
    "    image.flags.writeable = True\n",
    "    image = cv2.cvtColor(image, cv2.COLOR_RGB2BGR)\n",
    "\n",
    "    # Esse a seguir, serve para mostrar o rosto, mas não seguirei nele\n",
    "\n",
    "    # mp_drawing.draw_landmarks(\n",
    "    #    image,\n",
    "    #    results.face_landmarks,\n",
    "    #    mp_holistic.FACEMESH_CONTOURS,\n",
    "    #    landmark_drawing_spec=None,\n",
    "    #    connection_drawing_spec=mp_drawing_styles\n",
    "    #    .get_default_face_mesh_contours_style())\n",
    "    \n",
    "    mp_drawing.draw_landmarks(\n",
    "        image,\n",
    "        results.pose_landmarks,\n",
    "        mp_holistic.POSE_CONNECTIONS,\n",
    "        landmark_drawing_spec=mp_drawing_styles\n",
    "        .get_default_pose_landmarks_style())\n",
    "    \n",
    "    if results.left_hand_landmarks:\n",
    "            mp_drawing.draw_landmarks(\n",
    "                image,\n",
    "                results.left_hand_landmarks,\n",
    "                mp_holistic.HAND_CONNECTIONS,\n",
    "                mp_drawing_styles.get_default_hand_landmarks_style(),\n",
    "                mp_drawing_styles.get_default_hand_connections_style()\n",
    "            )\n",
    "\n",
    "    if results.right_hand_landmarks:\n",
    "        mp_drawing.draw_landmarks(\n",
    "            image,\n",
    "            results.right_hand_landmarks,\n",
    "            mp_holistic.HAND_CONNECTIONS,\n",
    "            mp_drawing_styles.get_default_hand_landmarks_style(),\n",
    "            mp_drawing_styles.get_default_hand_connections_style()\n",
    "        )\n",
    "\n",
    "    cv2.imshow('Modelo Holístico do MediaPipe', cv2.flip(image, 1))\n",
    "\n",
    "    if cv2.waitKey(5) & 0xFF == 27:\n",
    "      break\n",
    "\n",
    "cap.release()"
   ]
  }
 ],
 "metadata": {
  "kernelspec": {
   "display_name": "Python 3",
   "language": "python",
   "name": "python3"
  },
  "language_info": {
   "codemirror_mode": {
    "name": "ipython",
    "version": 3
   },
   "file_extension": ".py",
   "mimetype": "text/x-python",
   "name": "python",
   "nbconvert_exporter": "python",
   "pygments_lexer": "ipython3",
   "version": "3.12.1"
  }
 },
 "nbformat": 4,
 "nbformat_minor": 5
}
